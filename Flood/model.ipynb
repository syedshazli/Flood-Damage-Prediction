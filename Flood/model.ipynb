{
 "cells": [
  {
   "cell_type": "markdown",
   "id": "81579adc",
   "metadata": {},
   "source": [
    "Flood Intrusion Prediction based on this dataset: https://github.com/BinaLab/FloodNet-Supervised_v1.0"
   ]
  },
  {
   "cell_type": "code",
   "execution_count": 2,
   "id": "2f618a46",
   "metadata": {},
   "outputs": [],
   "source": [
    "import torch\n",
    "import numpy as np\n",
    "import matplotlib\n"
   ]
  },
  {
   "cell_type": "code",
   "execution_count": null,
   "id": "4354f4b5",
   "metadata": {},
   "outputs": [
    {
     "name": "stdout",
     "output_type": "stream",
     "text": [
      "tensor([0.5075, 0.0976, 0.3283, 0.6102, 0.8065])\n"
     ]
    }
   ],
   "source": []
  },
  {
   "cell_type": "markdown",
   "id": "1e8224a8",
   "metadata": {},
   "source": [
    "Citation:"
   ]
  },
  {
   "cell_type": "markdown",
   "id": "fccd9325",
   "metadata": {},
   "source": [
    "@ARTICLE{9460988,\n",
    " author={Rahnemoonfar, Maryam and Chowdhury, Tashnim and Sarkar, Argho and Varshney, Debvrat and Yari, Masoud and Murphy, Robin Roberson},\n",
    " journal={IEEE Access}, \n",
    " title={FloodNet: A High Resolution Aerial Imagery Dataset for Post Flood Scene Understanding}, \n",
    " year={2021},\n",
    " volume={9},\n",
    " number={},\n",
    " pages={89644-89654},\n",
    " doi={10.1109/ACCESS.2021.3090981}\n",
    " }\n",
    "\n",
    "@article{rahnemoonfar2020floodnet,\n",
    " title={FloodNet: A High Resolution Aerial Imagery Dataset for Post Flood Scene Understanding},\n",
    " author={Rahnemoonfar, Maryam and Chowdhury, Tashnim and Sarkar, Argho and Varshney, Debvrat and Yari, Masoud and Murphy, Robin},\n",
    " journal={arXiv preprint arXiv:2012.02951},\n",
    " year={2020}\n",
    "}\n"
   ]
  }
 ],
 "metadata": {
  "kernelspec": {
   "display_name": "Python 3",
   "language": "python",
   "name": "python3"
  },
  "language_info": {
   "codemirror_mode": {
    "name": "ipython",
    "version": 3
   },
   "file_extension": ".py",
   "mimetype": "text/x-python",
   "name": "python",
   "nbconvert_exporter": "python",
   "pygments_lexer": "ipython3",
   "version": "3.12.4"
  }
 },
 "nbformat": 4,
 "nbformat_minor": 5
}
